{
 "cells": [
  {
   "cell_type": "markdown",
   "metadata": {
    "id": "nV7LdVoMUQPm"
   },
   "source": [
    "## Bài toán:\n",
    "\n",
    "\n",
    "> **Đánh giá điểm tín dụng sử dụng Decision Tree và Random Forest**\n",
    "\n",
    "Mục tiêu:\n",
    "\n",
    "- Xây dựng mô hình Decision Tree và Random Forest sử dụng thư viện sklearn.\n",
    "- Áp dụng hai mô hình để giải bài toán thực tế (đánh giá điểm tín dụng).\n",
    "- Sử dụng độ đo thích hợp để đánh giá chất lượng mô hình.\n",
    "\n",
    "Vấn đề:\n",
    "\n",
    "- Trong lĩnh vực tài chính, bài toán đánh giá tín dụng của người dùng là bài toán phổ biến và quan trọng. Ở đó, ngân hàng sẽ xác định liệu có cho một người dùng nào đó thực hiện khoản vay hay không, dựa trên thông tin về điểm tín dụng. Điểm tín dụng chính là con số phản ánh khả năng hoàn trả của người vay. Nhìn chung, đây là một bài toán phân lọai 2 lớp (good/bad score).\n",
    "- Ngoài ra, một vấn đề thường gặp phải trong bài toán này đó: số lượng bad credits thường ít hơn nhiều so với số lượng good credits ==> Dữ liệu nhãn lớp mất cân bằng.\n",
    "\n",
    "Dữ liệu:\n",
    "\n",
    "- Cho dưới dạng bảng, mỗi hàng là một cá nhân vay, mỗi cột thể hiện một thuộc tính của cá nhân đó.\n",
    "- Các trường thuộc tính tồn tại ở nhiều dạng: categorical, numeric (discrete / continuous). Thậm chí tên trường có thể được ẩn đi, hay giá trị thật sự được mã hõa để đảm bảo tính bảo mật của khách hàng.\n",
    "- Hai tập dữ liệu sẽ sử dụng: [German credit](https://archive.ics.uci.edu/ml/datasets/Statlog+%28German+Credit+Data%29) và [Australian credit.](https://archive.ics.uci.edu/ml/datasets/Statlog+(Australian+Credit+Approval)\n",
    "\n",
    "\n",
    "Mô hình hóa bài toán: bài toán phân loại nhị phân\n",
    "\n",
    "- Đâu vào: $N$ vector $D$ chiều (ma trận cỡ $N \\times D$), tương ứng $N$ cá thể với $D$ thuộc tính.\n",
    "- Đầu ra: nhãn $0-1$ (0: bad credit, 1: good credit)."
   ]
  },
  {
   "cell_type": "markdown",
   "metadata": {
    "id": "9-HzH-F4Z99D"
   },
   "source": [
    "## Các bước thực hiện"
   ]
  },
  {
   "cell_type": "markdown",
   "metadata": {
    "id": "pjzV969CaI-G"
   },
   "source": [
    "### Import các thư viện cần thiết"
   ]
  },
  {
   "cell_type": "code",
   "execution_count": null,
   "metadata": {
    "id": "cb4N_sMUUQPq"
   },
   "outputs": [],
   "source": [
    "import numpy as np\n",
    "from sklearn.model_selection import train_test_split, GridSearchCV, learning_curve, ShuffleSplit, cross_val_score\n",
    "from sklearn.feature_selection import SelectFromModel\n",
    "from sklearn.metrics import accuracy_score, confusion_matrix, classification_report, f1_score, roc_auc_score\n",
    "\n",
    "import matplotlib.pyplot as plt\n",
    "\n",
    "from sklearn.ensemble import RandomForestClassifier\n",
    "from sklearn.tree import DecisionTreeClassifier\n",
    "\n",
    "random_state = 42"
   ]
  },
  {
   "cell_type": "code",
   "execution_count": null,
   "metadata": {},
   "outputs": [],
   "source": [
    "!wget https://archive.ics.uci.edu/ml/machine-learning-databases/statlog/german/german.data-numeric"
   ]
  },
  {
   "cell_type": "markdown",
   "metadata": {
    "id": "8kxXt9qFUQPs"
   },
   "source": [
    "### Tìm hiểu dữ liệu"
   ]
  },
  {
   "cell_type": "code",
   "execution_count": null,
   "metadata": {
    "colab": {
     "base_uri": "https://localhost:8080/"
    },
    "executionInfo": {
     "elapsed": 522,
     "status": "ok",
     "timestamp": 1718129889478,
     "user": {
      "displayName": "Anh Châu Quang",
      "userId": "17339707756237230641"
     },
     "user_tz": -420
    },
    "id": "ZI23KtFLUQPs",
    "outputId": "5e31bd29-b837-4140-e9c7-18b9856438e8"
   },
   "outputs": [
    {
     "name": "stdout",
     "output_type": "stream",
     "text": [
      "[[ 1.  6.  4. ...  0.  1.  1.]\n",
      " [ 2. 48.  2. ...  0.  1.  2.]\n",
      " [ 4. 12.  4. ...  1.  0.  1.]\n",
      " ...\n",
      " [ 4. 12.  2. ...  0.  1.  1.]\n",
      " [ 1. 45.  2. ...  0.  1.  2.]\n",
      " [ 2. 45.  4. ...  0.  1.  1.]]\n",
      "(1000, 24) (1000,)\n",
      "(800, 24) (200, 24)\n"
     ]
    }
   ],
   "source": [
    "'''\n",
    "- Tìm hiểu cấu trúc data tại trang web UCI\n",
    "- Down các files, đặt trong folder data/\n",
    "- Làm với phiên bản 'numeric'\n",
    "'''\n",
    "data_path = 'german.data-numeric'\n",
    "credit=np.genfromtxt(data_path)\n",
    "print(credit)\n",
    "X,y = credit[:,:-1], credit[:,-1]\n",
    "print(X.shape, y.shape)\n",
    "\n",
    "X_train, X_test, y_train, y_test = train_test_split(X,y,test_size=0.2, random_state=42)\n",
    "print(X_train.shape, X_test.shape)\n"
   ]
  },
  {
   "cell_type": "code",
   "execution_count": null,
   "metadata": {
    "colab": {
     "base_uri": "https://localhost:8080/"
    },
    "executionInfo": {
     "elapsed": 3,
     "status": "ok",
     "timestamp": 1718129891638,
     "user": {
      "displayName": "Anh Châu Quang",
      "userId": "17339707756237230641"
     },
     "user_tz": -420
    },
    "id": "tgmuedgV1LXY",
    "outputId": "b75c4bb1-f2de-4e63-feb5-bfddafa73076"
   },
   "outputs": [
    {
     "name": "stdout",
     "output_type": "stream",
     "text": [
      "1000\n"
     ]
    }
   ],
   "source": [
    "print(len(y))"
   ]
  },
  {
   "cell_type": "markdown",
   "metadata": {
    "id": "LtI6t_fRUQPu"
   },
   "source": [
    "### Khởi tạo các mô hình Decision Tree, Random Forest của Sklearn"
   ]
  },
  {
   "cell_type": "code",
   "execution_count": null,
   "metadata": {
    "id": "2OQ8nQg1UQPu"
   },
   "outputs": [],
   "source": [
    "'''\n",
    "- Decision Tree\n",
    "https://scikit-learn.org/stable/modules/generated/sklearn.tree.DecisionTreeClassifier.html\n",
    "'''\n",
    "DT = DecisionTreeClassifier(random_state=random_state)\n",
    "\n",
    "'''\n",
    "- Random Forest\n",
    "https://scikit-learn.org/stable/modules/generated/sklearn.ensemble.RandomForestClassifier.html\n",
    "'''\n",
    "RF = RandomForestClassifier(random_state=random_state)"
   ]
  },
  {
   "cell_type": "code",
   "execution_count": null,
   "metadata": {
    "colab": {
     "base_uri": "https://localhost:8080/"
    },
    "executionInfo": {
     "elapsed": 355,
     "status": "ok",
     "timestamp": 1718130851471,
     "user": {
      "displayName": "Anh Châu Quang",
      "userId": "17339707756237230641"
     },
     "user_tz": -420
    },
    "id": "t56s96KtUQPu",
    "outputId": "cef5c741-5485-4579-cbf9-8d03463ece25"
   },
   "outputs": [
    {
     "name": "stdout",
     "output_type": "stream",
     "text": [
      "Demo DT and RF prediction\n",
      "-DT acc = 0.665\n",
      "-DT f1 = 0.7632508833922261\n",
      "[[108  33]\n",
      " [ 34  25]]\n"
     ]
    }
   ],
   "source": [
    "print('Demo DT and RF prediction')\n",
    "DT.fit(X_train, y_train)\n",
    "y_dt_pred = DT.predict(X_test)\n",
    "print(\"-DT acc = {}\".format(accuracy_score(y_test, y_dt_pred)))\n",
    "print(\"-DT f1 = {}\".format(f1_score(y_test, y_dt_pred)))\n",
    "print(confusion_matrix(y_test, y_dt_pred))"
   ]
  },
  {
   "cell_type": "markdown",
   "metadata": {
    "id": "J-njAapdUQPv"
   },
   "source": [
    "##### Bài 1: Chạy RF baseline"
   ]
  },
  {
   "cell_type": "code",
   "execution_count": null,
   "metadata": {
    "colab": {
     "base_uri": "https://localhost:8080/"
    },
    "executionInfo": {
     "elapsed": 885,
     "status": "ok",
     "timestamp": 1718130860141,
     "user": {
      "displayName": "Anh Châu Quang",
      "userId": "17339707756237230641"
     },
     "user_tz": -420
    },
    "id": "JiEukaybUQPv",
    "outputId": "b9dd7ed3-c686-4bfc-e425-44ab14528f23"
   },
   "outputs": [
    {
     "name": "stdout",
     "output_type": "stream",
     "text": [
      "-DT acc = 0.81\n",
      "-DT f1 = 0.8749999999999999\n",
      "[[133   8]\n",
      " [ 30  29]]\n"
     ]
    }
   ],
   "source": [
    "# Code ở đây\n",
    "RF.fit(X_train, y_train)\n",
    "y_dt_pred = RF.predict(X_test)\n",
    "print(\"-DT acc = {}\".format(accuracy_score(y_test, y_dt_pred)))\n",
    "print(\"-DT f1 = {}\".format(f1_score(y_test, y_dt_pred)))\n",
    "print(confusion_matrix(y_test, y_dt_pred))"
   ]
  },
  {
   "cell_type": "markdown",
   "metadata": {
    "id": "4oRouUm-UQPv"
   },
   "source": [
    "### Tìm kiếm siêu tham số"
   ]
  },
  {
   "cell_type": "code",
   "execution_count": null,
   "metadata": {
    "id": "pCytxgaPUQPw"
   },
   "outputs": [],
   "source": [
    "# Một số hàm hỗ trợ\n",
    "def grid_search(algorithm, n_jobs, dict_param):\n",
    "    if algorithm == 'decision-tree':\n",
    "        model = DecisionTreeClassifier()\n",
    "    if algorithm == 'random-forest':\n",
    "        model = RandomForestClassifier()\n",
    "    classifier = GridSearchCV(estimator=model, cv=5, param_grid=dict_param,\n",
    "                            n_jobs=n_jobs, scoring='f1')\n",
    "    classifier.fit(X_train, y_train)\n",
    "    print('Best model', end='')\n",
    "    print(classifier.best_estimator_)\n",
    "    return classifier.best_estimator_\n",
    "\n",
    "def evaluate(model):\n",
    "    print(\"Test Accuracy :\", accuracy_score(y_test, model.predict(X_test)))\n",
    "    print(\"Test f1 score :\", f1_score(y_test, model.predict(X_test)))\n",
    "    print(\"Test Confusion Matrix:\")\n",
    "    print(confusion_matrix(y_test, model.predict(X_test)))"
   ]
  },
  {
   "cell_type": "markdown",
   "metadata": {
    "id": "bNvNHVo1UQPx"
   },
   "source": [
    "#### Decision Tree"
   ]
  },
  {
   "cell_type": "code",
   "execution_count": null,
   "metadata": {
    "colab": {
     "base_uri": "https://localhost:8080/",
     "height": 524
    },
    "executionInfo": {
     "elapsed": 1034,
     "status": "ok",
     "timestamp": 1718130868251,
     "user": {
      "displayName": "Anh Châu Quang",
      "userId": "17339707756237230641"
     },
     "user_tz": -420
    },
    "id": "bbMAViA7UQPx",
    "outputId": "cef24962-aa5e-4f2e-8725-6665ec9a0315"
   },
   "outputs": [
    {
     "name": "stdout",
     "output_type": "stream",
     "text": [
      "Best max_depth: 3\n",
      "Test F1 score for the best model: 0.8417508417508417\n"
     ]
    },
    {
     "data": {
      "text/plain": [
       "Text(0.5, 1.0, 'DT validation curve for max_depth')"
      ]
     },
     "execution_count": 20,
     "metadata": {},
     "output_type": "execute_result"
    },
    {
     "data": {
      "image/png": "[encoded data removed]",
      "text/plain": [
       "<Figure size 640x480 with 1 Axes>"
      ]
     },
     "metadata": {},
     "output_type": "display_data"
    }
   ],
   "source": [
    "# Trước hết, hãy thử khảo sát DT với tham số max_depth\n",
    "cv_accuracies_by_depth = []\n",
    "max_depth_values= np.arange(2,11)\n",
    "\n",
    "for curr_max_depth in max_depth_values:\n",
    "  tree= DecisionTreeClassifier(random_state=random_state, max_depth=curr_max_depth)\n",
    "\n",
    "  # cross-validation\n",
    "  val_scores= cross_val_score(estimator=tree, X=X_train, y=y_train, cv=5, scoring='f1')\n",
    "  cv_accuracies_by_depth.append(val_scores.mean())\n",
    "\n",
    "# Tìm giá trị max_depth tốt nhất dựa trên kết quả cross-validation\n",
    "best_max_depth = max_depth_values[np.argmax(cv_accuracies_by_depth)]\n",
    "print(f'Best max_depth: {best_max_depth}')\n",
    "\n",
    "best_tree = DecisionTreeClassifier(random_state=random_state, max_depth=best_max_depth)\n",
    "best_tree.fit(X_train, y_train)\n",
    "\n",
    "# Đánh giá mô hình trên tập dữ liệu kiểm tra\n",
    "best_pred = best_tree.predict(X_test)\n",
    "best_test_f1_score = f1_score(y_test, best_pred)\n",
    "\n",
    "print(f'Test F1 score for the best model: {best_test_f1_score}')\n",
    "\n",
    "# Plot\n",
    "plt.plot(max_depth_values, cv_accuracies_by_depth, label='cv')\n",
    "plt.legend()\n",
    "plt.xlabel('max depth')\n",
    "plt.ylabel('scores')\n",
    "plt.title('DT validation curve for max_depth')"
   ]
  },
  {
   "cell_type": "code",
   "execution_count": null,
   "metadata": {
    "colab": {
     "base_uri": "https://localhost:8080/"
    },
    "executionInfo": {
     "elapsed": 1564,
     "status": "ok",
     "timestamp": 1718130882011,
     "user": {
      "displayName": "Anh Châu Quang",
      "userId": "17339707756237230641"
     },
     "user_tz": -420
    },
    "id": "ivcfyfUSUQPx",
    "outputId": "e49323c3-98ff-4ee2-d547-dbd3f8758d84"
   },
   "outputs": [
    {
     "name": "stdout",
     "output_type": "stream",
     "text": [
      "Best modelDecisionTreeClassifier(max_depth=5, min_samples_leaf=20)\n"
     ]
    }
   ],
   "source": [
    "# Thử sử dụng GridSearchCV để khảo sát\n",
    "dict_param = {\n",
    "    'max_depth': [2, 3, 5, 7, 10, 20],\n",
    "    'min_samples_leaf': [5, 10, 20, 50, 100],\n",
    "    'criterion': [\"gini\", \"entropy\"]\n",
    "}\n",
    "best_tree_grid = grid_search('decision-tree', n_jobs=-1, dict_param=dict_param)\n"
   ]
  },
  {
   "cell_type": "code",
   "execution_count": null,
   "metadata": {
    "colab": {
     "base_uri": "https://localhost:8080/"
    },
    "executionInfo": {
     "elapsed": 436,
     "status": "ok",
     "timestamp": 1718130911020,
     "user": {
      "displayName": "Anh Châu Quang",
      "userId": "17339707756237230641"
     },
     "user_tz": -420
    },
    "id": "xKWBobP9kyNv",
    "outputId": "33fd03c7-cf5e-4750-e4a1-a62aa973a2da"
   },
   "outputs": [
    {
     "name": "stdout",
     "output_type": "stream",
     "text": [
      "Test F1 score for the best model: 0.8533333333333334\n"
     ]
    }
   ],
   "source": [
    "# Đánh giá best_tree GridSearchCV\n",
    "best_pred_grid = best_tree_grid.predict(X_test)\n",
    "best_test_f1_score_grid = f1_score(y_test, best_pred_grid)\n",
    "\n",
    "print(f'Test F1 score for the best model grid: {best_test_f1_score_grid}')"
   ]
  },
  {
   "cell_type": "markdown",
   "metadata": {
    "id": "5EzqvcJBUQPy"
   },
   "source": [
    "#### Random Forest"
   ]
  },
  {
   "cell_type": "markdown",
   "metadata": {
    "id": "WTTEs678UQPz"
   },
   "source": [
    "##### Bài 3: thực hành tương tự với RF"
   ]
  },
  {
   "cell_type": "code",
   "execution_count": null,
   "metadata": {
    "id": "XKvXiCQ5UQPz"
   },
   "outputs": [],
   "source": [
    "# Bài tập\n",
    "# Tương tự, thử khảo sát RF với số lượng cây n_estimators\n",
    "# Hoàn thiện các đoạn code còn thiếu:\n",
    "\n",
    "num_trees = [5, 10, 15, 20, 30, 50, 75, 100, 150]\n",
    "cv_acc_by_n_estimators = []\n",
    "\n",
    "for ntrees in num_trees:\n",
    "    # Code ở đây:\n",
    "\n",
    "\n",
    "# Tìm giá trị n_estimators tốt nhất dựa trên kết quả cross-validation\n",
    "best_n_estimators = num_trees[np.argmax(cv_acc_by_n_estimators)]\n",
    "print(f'Best n_estimators: {best_n_estimators}')\n",
    "\n",
    "# Huấn luyện mô hình trên best_n_estimators\n",
    "# Code ở đây:\n",
    "\n",
    "# Đánh giá mô hình trên tập dữ liệu kiểm tra\n",
    "# Code ở đây:\n",
    "\n",
    "print(f'Test F1 score for the best forest: {best_forest_test_f1_score}')\n",
    "\n",
    "plt.plot(num_trees, cv_acc_by_n_estimators, label='cv')\n",
    "plt.legend()\n",
    "plt.xlabel('No. of trees (n_estimators)')\n",
    "plt.ylabel('Scores')\n",
    "plt.title('Random-Forest: scores vs n_estimators');\n"
   ]
  },
  {
   "cell_type": "code",
   "execution_count": null,
   "metadata": {
    "id": "MnUyxLmkUQPz"
   },
   "outputs": [],
   "source": [
    "# Sử dụng GridSearch CV\n",
    "dict_param = {\n",
    "    'max_depth': [3, 11, 15, 24, 27],\n",
    "    'min_samples_leaf': [1, 5, 7, 9, 15, 24],\n",
    "    'max_features':  [4, 6, 10, 16],\n",
    "    'n_estimators': [75]\n",
    "}\n",
    "\n",
    "# Tìm best_forest\n",
    "# Code ở đây:\n"
   ]
  },
  {
   "cell_type": "code",
   "execution_count": null,
   "metadata": {
    "id": "RmMT2EHcniQV"
   },
   "outputs": [],
   "source": [
    "# Đánh giá best_forest GridSearchCV\n",
    "# Code ở đây:\n",
    "\n",
    "print(f'Test F1 score for the best model grid: {best_test_f1_score_grid}')"
   ]
  }
 ],
 "metadata": {
  "colab": {
   "provenance": []
  },
  "kernelspec": {
   "display_name": "Python 3",
   "language": "python",
   "name": "python3"
  },
  "language_info": {
   "name": "python",
   "version": ""
  }
 },
 "nbformat": 4,
 "nbformat_minor": 0
}
